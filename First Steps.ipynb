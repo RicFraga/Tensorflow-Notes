{
 "cells": [
  {
   "cell_type": "code",
   "execution_count": 1,
   "metadata": {},
   "outputs": [],
   "source": [
    "import tensorflow as tf"
   ]
  },
  {
   "cell_type": "markdown",
   "metadata": {},
   "source": [
    "Basic units of tensorflow are tensors (dah). Tensors are n-dimensional arrays, the dimension of the array gives the rank of the tensor.\n",
    "* 0-dimensional array -> rank 0 tensor\n",
    "* 1-dimensional array -> rank 1 tensor\n",
    "* 2-dimensional array -> rank 2 tensor\n",
    "* 3-dimensional array -> rank 3 tensor\n",
    "and so on.  \n",
    "\n",
    "Let's create a rank 0 tensor and see the output."
   ]
  },
  {
   "cell_type": "code",
   "execution_count": 4,
   "metadata": {},
   "outputs": [
    {
     "name": "stdout",
     "output_type": "stream",
     "text": [
      "tf.Tensor(3, shape=(), dtype=int32)\n"
     ]
    }
   ],
   "source": [
    "rank0 = tf.constant(3)\n",
    "print(rank0)"
   ]
  },
  {
   "cell_type": "markdown",
   "metadata": {},
   "source": [
    "We see that the shape is (), refering to a single value. Let' see a rank 1 tensor."
   ]
  },
  {
   "cell_type": "code",
   "execution_count": 5,
   "metadata": {},
   "outputs": [
    {
     "name": "stdout",
     "output_type": "stream",
     "text": [
      "tf.Tensor([1 2 3], shape=(3,), dtype=int32)\n"
     ]
    }
   ],
   "source": [
    "rank1 = tf.constant([1, 2, 3])\n",
    "print(rank1)"
   ]
  },
  {
   "cell_type": "markdown",
   "metadata": {},
   "source": [
    "We now see that the shape is (3,), refering to a 1-dimensional array with 3 elements. Finally, let's take a look at higher rank tensors."
   ]
  },
  {
   "cell_type": "code",
   "execution_count": 12,
   "metadata": {},
   "outputs": [
    {
     "name": "stdout",
     "output_type": "stream",
     "text": [
      "Rank 2 tensor\n",
      "tf.Tensor(\n",
      "[[1 2 3]\n",
      " [4 5 6]], shape=(2, 3), dtype=int32)\n",
      "\n",
      "Rank 3 tensor\n",
      "tf.Tensor(\n",
      "[[[1 2 3]\n",
      "  [4 5 6]\n",
      "  [7 8 9]]], shape=(1, 3, 3), dtype=int32)\n",
      "\n",
      "Rank n tensor\n",
      "tf.Tensor(\n",
      "[[[[2 3 4]\n",
      "   [2 3 4]]\n",
      "\n",
      "  [[2 3 4]\n",
      "   [2 3 4]]\n",
      "\n",
      "  [[2 3 4]\n",
      "   [2 3 4]]\n",
      "\n",
      "  [[2 3 4]\n",
      "   [2 3 4]]]\n",
      "\n",
      "\n",
      " [[[2 3 4]\n",
      "   [2 3 4]]\n",
      "\n",
      "  [[2 3 4]\n",
      "   [2 3 4]]\n",
      "\n",
      "  [[2 3 4]\n",
      "   [2 3 4]]\n",
      "\n",
      "  [[2 3 4]\n",
      "   [2 3 4]]]\n",
      "\n",
      "\n",
      " [[[2 3 4]\n",
      "   [2 3 4]]\n",
      "\n",
      "  [[2 3 4]\n",
      "   [2 3 4]]\n",
      "\n",
      "  [[2 3 4]\n",
      "   [2 3 4]]\n",
      "\n",
      "  [[2 3 4]\n",
      "   [2 3 4]]]\n",
      "\n",
      "\n",
      " [[[2 3 4]\n",
      "   [2 3 4]]\n",
      "\n",
      "  [[2 3 4]\n",
      "   [2 3 4]]\n",
      "\n",
      "  [[2 3 4]\n",
      "   [2 3 4]]\n",
      "\n",
      "  [[2 3 4]\n",
      "   [2 3 4]]]\n",
      "\n",
      "\n",
      " [[[2 3 4]\n",
      "   [2 3 4]]\n",
      "\n",
      "  [[2 3 4]\n",
      "   [2 3 4]]\n",
      "\n",
      "  [[2 3 4]\n",
      "   [2 3 4]]\n",
      "\n",
      "  [[2 3 4]\n",
      "   [2 3 4]]]], shape=(5, 4, 2, 3), dtype=int32)\n",
      "\n"
     ]
    }
   ],
   "source": [
    "rank2 = tf.constant([[1, 2, 3], [4, 5, 6]])\n",
    "print('Rank 2 tensor\\n' + str(rank2) + '\\n')\n",
    "\n",
    "rank3 = tf.constant([[[1, 2, 3], [4, 5, 6], [7, 8, 9]]])\n",
    "print('Rank 3 tensor\\n' + str(rank3) + '\\n')\n",
    "\n",
    "# A weird array\n",
    "aux1 = tf.constant([2, 3, 4])\n",
    "aux2 = tf.stack([aux1, aux1])\n",
    "aux3 = tf.stack([aux2, aux2, aux2, aux2])\n",
    "rankn = tf.stack([aux3, aux3, aux3, aux3, aux3])\n",
    "print('Rank n tensor\\n' + str(rankn) + '\\n')"
   ]
  },
  {
   "cell_type": "markdown",
   "metadata": {},
   "source": [
    "We've been using tf.constant to define our values but there is also tf.variable. The difference is pretty obvious.\n",
    "* tf.constant can't be modified\n",
    "* tf.Variable can be modified  \n",
    "\n",
    "Let's see some examples on tf.Variable"
   ]
  },
  {
   "cell_type": "code",
   "execution_count": 28,
   "metadata": {},
   "outputs": [
    {
     "name": "stdout",
     "output_type": "stream",
     "text": [
      "Declaring the variable with the value 2.0\n",
      "<tf.Variable 'variable1:0' shape=() dtype=float32, numpy=2.0>\n",
      "\n",
      "Assigning the value 45.8 to the variable\n",
      "<tf.Variable 'variable1:0' shape=() dtype=float32, numpy=45.8>\n",
      "\n",
      "Adding 4.2 to the variable\n",
      "<tf.Variable 'variable1:0' shape=() dtype=float32, numpy=50.0>\n",
      "\n",
      "Substracting 40.0 to the variable\n",
      "<tf.Variable 'variable1:0' shape=() dtype=float32, numpy=10.0>\n"
     ]
    }
   ],
   "source": [
    "variable1 = tf.Variable(2.0, dtype = tf.float32, name = 'variable1')\n",
    "print('Declaring the variable with the value 2.0')\n",
    "print(str(variable1) + '\\n')\n",
    "\n",
    "variable1.assign(45.8)\n",
    "print('Assigning the value 45.8 to the variable')\n",
    "print(str(variable1) + '\\n')\n",
    "\n",
    "variable1.assign_add(4.2)\n",
    "print('Adding 4.2 to the variable')\n",
    "print(str(variable1) + '\\n')\n",
    "\n",
    "variable1.assign_sub(40.0)\n",
    "print('Substracting 40.0 to the variable')\n",
    "print(str(variable1))"
   ]
  },
  {
   "cell_type": "markdown",
   "metadata": {},
   "source": [
    "Now, we'll see how to perform operations between Variables and constants"
   ]
  },
  {
   "cell_type": "code",
   "execution_count": 32,
   "metadata": {},
   "outputs": [
    {
     "data": {
      "text/plain": [
       "<tf.Tensor: shape=(2, 2), dtype=float32, numpy=\n",
       "array([[3., 4.],\n",
       "       [6., 8.]], dtype=float32)>"
      ]
     },
     "execution_count": 32,
     "metadata": {},
     "output_type": "execute_result"
    }
   ],
   "source": [
    "w = tf.Variable([[1.], [2.]])\n",
    "x = tf.constant([[3., 4.]])\n",
    "tf.matmul(w, x)"
   ]
  },
  {
   "cell_type": "markdown",
   "metadata": {},
   "source": [
    "Tensorflow is a library that can be used for any numeric computation, not just DL. And so, TF has the hability to compute the partial derivative of any function with respect to any variable.\n",
    "Speaking of DL, in the update step, TF needs to remember which operations were done and in which order.\n",
    "**Gradient Tape** is a context manager in which those partial derivatives are calculated, and it needs that the operations are expresed in TF in built operations only.  \n",
    "A way of computing gradients is the next one."
   ]
  },
  {
   "cell_type": "code",
   "execution_count": 35,
   "metadata": {},
   "outputs": [],
   "source": [
    "def compute_gradients(X, Y, w0, w1):\n",
    "    \n",
    "    # Record the computation with GradientTape (when it is executed, not when it is defined!)\n",
    "    with tf.GradientTape() as tape:\n",
    "        loss = loss_mse(X, Y, w0, w1)\n",
    "    \n",
    "    # Selecting the loss function you'll use and the variables you want the gradient with\n",
    "    # respect to ([w0, w1])\n",
    "    return tape.gradient(loss, [wo, w1])"
   ]
  },
  {
   "cell_type": "code",
   "execution_count": null,
   "metadata": {},
   "outputs": [],
   "source": []
  }
 ],
 "metadata": {
  "kernelspec": {
   "display_name": "Python 3",
   "language": "python",
   "name": "python3"
  },
  "language_info": {
   "codemirror_mode": {
    "name": "ipython",
    "version": 3
   },
   "file_extension": ".py",
   "mimetype": "text/x-python",
   "name": "python",
   "nbconvert_exporter": "python",
   "pygments_lexer": "ipython3",
   "version": "3.7.6"
  }
 },
 "nbformat": 4,
 "nbformat_minor": 4
}
