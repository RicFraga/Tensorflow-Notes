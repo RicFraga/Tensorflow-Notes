{
 "cells": [
  {
   "cell_type": "code",
   "execution_count": 1,
   "metadata": {},
   "outputs": [
    {
     "data": {
      "text/plain": [
       "'2.2.0'"
      ]
     },
     "execution_count": 1,
     "metadata": {},
     "output_type": "execute_result"
    }
   ],
   "source": [
    "import random\n",
    "import numpy as np\n",
    "import pandas as pd\n",
    "import tensorflow as tf\n",
    "from tensorflow.keras.models import Sequential\n",
    "from tensorflow.keras.layers import Dense, Conv2D, MaxPooling2D, Flatten, Softmax\n",
    "\n",
    "tf.__version__"
   ]
  },
  {
   "cell_type": "code",
   "execution_count": 2,
   "metadata": {},
   "outputs": [],
   "source": [
    "model = Sequential([\n",
    "    Dense(64, activation = 'relu', input_shape = (1, )),\n",
    "    Dense(100)\n",
    "])"
   ]
  },
  {
   "cell_type": "code",
   "execution_count": 3,
   "metadata": {},
   "outputs": [],
   "source": [
    "model.compile(\n",
    "    optimizer = 'adam',\n",
    "    loss = 'mse',\n",
    "    metrics = ['mae']\n",
    ")"
   ]
  },
  {
   "cell_type": "markdown",
   "metadata": {},
   "source": [
    "Now that our model is wel defined, we'll simulate the following function:  \n",
    "$$ Y = 2X + 3$$  \n",
    "Let's create an artifical dataset following this function."
   ]
  },
  {
   "cell_type": "code",
   "execution_count": 4,
   "metadata": {},
   "outputs": [],
   "source": [
    "def artifical_dataset(length):\n",
    "    x_dataset = []\n",
    "    y_dataset = []\n",
    "    \n",
    "    for i in range(length):\n",
    "        x = random.uniform(1, 1000)\n",
    "        y = 2 * x + 3\n",
    "        \n",
    "        x_dataset.append(x)\n",
    "        y_dataset.append(y)\n",
    "        \n",
    "    return x_dataset, y_dataset"
   ]
  },
  {
   "cell_type": "code",
   "execution_count": 5,
   "metadata": {},
   "outputs": [],
   "source": [
    "x, y = artifical_dataset(10000)"
   ]
  },
  {
   "cell_type": "markdown",
   "metadata": {},
   "source": [
    "Now that the dataset is created, all we have to do is call the `.fit` method of the model."
   ]
  },
  {
   "cell_type": "code",
   "execution_count": 6,
   "metadata": {},
   "outputs": [
    {
     "name": "stdout",
     "output_type": "stream",
     "text": [
      "Epoch 1/15\n",
      "313/313 [==============================] - 0s 2ms/step - loss: 398255.5312 - mae: 405.9185\n",
      "Epoch 2/15\n",
      "313/313 [==============================] - 0s 2ms/step - loss: 14.7042 - mae: 1.4734\n",
      "Epoch 3/15\n",
      "313/313 [==============================] - 0s 2ms/step - loss: 0.5819 - mae: 0.6359\n",
      "Epoch 4/15\n",
      "313/313 [==============================] - 0s 2ms/step - loss: 0.5761 - mae: 0.6329\n",
      "Epoch 5/15\n",
      "313/313 [==============================] - 1s 2ms/step - loss: 0.5687 - mae: 0.6284\n",
      "Epoch 6/15\n",
      "313/313 [==============================] - 0s 2ms/step - loss: 0.5599 - mae: 0.6237\n",
      "Epoch 7/15\n",
      "313/313 [==============================] - 0s 2ms/step - loss: 0.5498 - mae: 0.6178\n",
      "Epoch 8/15\n",
      "313/313 [==============================] - 0s 2ms/step - loss: 0.5374 - mae: 0.6109\n",
      "Epoch 9/15\n",
      "313/313 [==============================] - 0s 2ms/step - loss: 0.5237 - mae: 0.6031\n",
      "Epoch 10/15\n",
      "313/313 [==============================] - 0s 2ms/step - loss: 0.5075 - mae: 0.5937\n",
      "Epoch 11/15\n",
      "313/313 [==============================] - 1s 2ms/step - loss: 0.4892 - mae: 0.5830\n",
      "Epoch 12/15\n",
      "313/313 [==============================] - 0s 2ms/step - loss: 0.4676 - mae: 0.5698\n",
      "Epoch 13/15\n",
      "313/313 [==============================] - 0s 2ms/step - loss: 0.4443 - mae: 0.5553\n",
      "Epoch 14/15\n",
      "313/313 [==============================] - 0s 2ms/step - loss: 0.4188 - mae: 0.5390\n",
      "Epoch 15/15\n",
      "313/313 [==============================] - 0s 2ms/step - loss: 0.3911 - mae: 0.5210\n"
     ]
    },
    {
     "data": {
      "text/plain": [
       "<tensorflow.python.keras.callbacks.History at 0x7fcd3c3cc190>"
      ]
     },
     "execution_count": 6,
     "metadata": {},
     "output_type": "execute_result"
    }
   ],
   "source": [
    "EPOCHS = 15\n",
    "\n",
    "model.fit(x, y, epochs = EPOCHS)"
   ]
  },
  {
   "cell_type": "markdown",
   "metadata": {},
   "source": [
    "Now the model is trained, let's take a look at some predictions."
   ]
  },
  {
   "cell_type": "code",
   "execution_count": 7,
   "metadata": {},
   "outputs": [
    {
     "data": {
      "text/plain": [
       "array([[3.765553 , 3.8653631, 3.7481468, 3.7487924, 3.7315183, 3.7831314,\n",
       "        3.7991936, 3.8919468, 3.720812 , 3.7261019, 3.711222 , 3.8198032,\n",
       "        3.8297565, 3.7199218, 3.8298476, 3.75276  , 3.812178 , 3.8358862,\n",
       "        3.83356  , 3.859674 , 3.7197654, 3.8303952, 3.755525 , 3.7858005,\n",
       "        3.757895 , 3.8427851, 3.7770534, 3.7791047, 3.812855 , 3.8275788,\n",
       "        3.803449 , 3.772369 , 3.789542 , 3.7338305, 3.705645 , 3.7695   ,\n",
       "        3.701232 , 3.743153 , 3.784381 , 3.783387 , 3.741905 , 3.8645377,\n",
       "        3.7963936, 3.7574258, 3.7759364, 3.7398944, 3.8350418, 3.7869627,\n",
       "        3.8117402, 3.6593463, 3.7767234, 3.8531053, 3.8583264, 3.806758 ,\n",
       "        3.6863859, 3.7704072, 3.6917882, 3.7149675, 3.8199763, 3.7564638,\n",
       "        3.757772 , 3.8573217, 3.6711502, 3.7308977, 3.7412112, 3.7775435,\n",
       "        3.7227988, 3.7486627, 3.6706629, 3.812757 , 3.828004 , 3.7333655,\n",
       "        3.7786043, 3.7639124, 3.7868538, 3.7968016, 3.7266502, 3.9130874,\n",
       "        3.8230913, 3.779494 , 3.8461783, 3.7709236, 3.7518992, 3.7765179,\n",
       "        3.7892282, 3.7306948, 3.8140347, 3.8125064, 3.8592174, 3.7564383,\n",
       "        3.698366 , 3.7578852, 3.7843187, 3.7201114, 3.8694944, 3.7463527,\n",
       "        3.8028412, 3.7637591, 3.7805495, 3.7668362]], dtype=float32)"
      ]
     },
     "execution_count": 7,
     "metadata": {},
     "output_type": "execute_result"
    }
   ],
   "source": [
    "model.predict([1])"
   ]
  },
  {
   "cell_type": "markdown",
   "metadata": {},
   "source": [
    "Ok, so the training worked! But this data is not that exciting to predict, let's take a look at some images, specifically, the ones from the MNIST clothes dataset, already included and splited into train and test datasets in tensorflow."
   ]
  },
  {
   "cell_type": "code",
   "execution_count": 8,
   "metadata": {},
   "outputs": [],
   "source": [
    "fashion_mnist_data = tf.keras.datasets.fashion_mnist\n",
    "(train_images, train_labels), (test_images, test_labels) = fashion_mnist_data.load_data()"
   ]
  },
  {
   "cell_type": "markdown",
   "metadata": {},
   "source": [
    "The first step is to check our data, for example, the shape of it."
   ]
  },
  {
   "cell_type": "code",
   "execution_count": 9,
   "metadata": {},
   "outputs": [
    {
     "name": "stdout",
     "output_type": "stream",
     "text": [
      "Shape of the training examples: (60000, 28, 28)\n",
      "Shape of the training labes: (60000,)\n",
      "Shape of the test examples: (10000, 28, 28)\n",
      "Shape of the test labes: (10000,)\n"
     ]
    }
   ],
   "source": [
    "print('Shape of the training examples: {}'.format(train_images.shape))\n",
    "print('Shape of the training labes: {}'.format(train_labels.shape))\n",
    "print('Shape of the test examples: {}'.format(test_images.shape))\n",
    "print('Shape of the test labes: {}'.format(test_labels.shape))"
   ]
  },
  {
   "cell_type": "markdown",
   "metadata": {},
   "source": [
    "The only thing the dataset doesn't contain are the string labels for the clothes, so we have to define them in a separate list."
   ]
  },
  {
   "cell_type": "code",
   "execution_count": 10,
   "metadata": {},
   "outputs": [],
   "source": [
    "labels = [\n",
    "    'T-shirt/top',\n",
    "    'Trouser',\n",
    "    'Pullover',\n",
    "    'Dress',\n",
    "    'Coat',\n",
    "    'Sandal',\n",
    "    'Shirt',\n",
    "    'Sneaker',\n",
    "    'Bag',\n",
    "    'Ankle boot'\n",
    "]"
   ]
  },
  {
   "cell_type": "markdown",
   "metadata": {},
   "source": [
    "Let's take a look at some images from the dataset."
   ]
  },
  {
   "cell_type": "code",
   "execution_count": 11,
   "metadata": {},
   "outputs": [
    {
     "data": {
      "image/png": "[encoded data removed]",
      "text/plain": [
       "<Figure size 936x936 with 16 Axes>"
      ]
     },
     "metadata": {
      "needs_background": "light"
     },
     "output_type": "display_data"
    }
   ],
   "source": [
    "import matplotlib.pyplot as plt\n",
    "\n",
    "fig, axs = plt.subplots(4, 4, figsize = (13, 13))\n",
    "\n",
    "for i in range(4):\n",
    "    for j in range(4):\n",
    "        index = random.randint(0, train_images.shape[0] - 1)\n",
    "        axs[i][j].imshow(train_images[index], cmap = 'binary')"
   ]
  },
  {
   "cell_type": "code",
   "execution_count": 12,
   "metadata": {},
   "outputs": [],
   "source": [
    "# Normalizing the dataset\n",
    "train_images = train_images / 255.\n",
    "test_images = test_images / 255."
   ]
  },
  {
   "cell_type": "markdown",
   "metadata": {},
   "source": [
    "Of course, our past model won't function with this dataset, so let's create another one."
   ]
  },
  {
   "cell_type": "code",
   "execution_count": 13,
   "metadata": {},
   "outputs": [],
   "source": [
    "model = Sequential([\n",
    "    Conv2D(16, (3, 3), activation = 'relu', input_shape = (28, 28, 1)),\n",
    "    MaxPooling2D((3, 3)),\n",
    "    Flatten(),\n",
    "    Dense(10, activation = 'softmax')\n",
    "])"
   ]
  },
  {
   "cell_type": "code",
   "execution_count": 14,
   "metadata": {},
   "outputs": [],
   "source": [
    "model.compile(\n",
    "    optimizer = 'adam',\n",
    "    loss = 'sparse_categorical_crossentropy',\n",
    "    metrics = 'accuracy'\n",
    ")"
   ]
  },
  {
   "cell_type": "code",
   "execution_count": 15,
   "metadata": {},
   "outputs": [
    {
     "name": "stdout",
     "output_type": "stream",
     "text": [
      "Model: \"sequential_1\"\n",
      "_________________________________________________________________\n",
      "Layer (type)                 Output Shape              Param #   \n",
      "=================================================================\n",
      "conv2d (Conv2D)              (None, 26, 26, 16)        160       \n",
      "_________________________________________________________________\n",
      "max_pooling2d (MaxPooling2D) (None, 8, 8, 16)          0         \n",
      "_________________________________________________________________\n",
      "flatten (Flatten)            (None, 1024)              0         \n",
      "_________________________________________________________________\n",
      "dense_2 (Dense)              (None, 10)                10250     \n",
      "=================================================================\n",
      "Total params: 10,410\n",
      "Trainable params: 10,410\n",
      "Non-trainable params: 0\n",
      "_________________________________________________________________\n"
     ]
    }
   ],
   "source": [
    "model.summary()"
   ]
  },
  {
   "cell_type": "code",
   "execution_count": 16,
   "metadata": {},
   "outputs": [
    {
     "name": "stdout",
     "output_type": "stream",
     "text": [
      "Epoch 1/8\n",
      "235/235 [==============================] - 10s 40ms/step - loss: 0.8137 - accuracy: 0.7390\n",
      "Epoch 2/8\n",
      "235/235 [==============================] - 9s 39ms/step - loss: 0.4861 - accuracy: 0.8290\n",
      "Epoch 3/8\n",
      "235/235 [==============================] - 9s 40ms/step - loss: 0.4313 - accuracy: 0.8489\n",
      "Epoch 4/8\n",
      "235/235 [==============================] - 10s 42ms/step - loss: 0.4040 - accuracy: 0.8599\n",
      "Epoch 5/8\n",
      "235/235 [==============================] - 9s 39ms/step - loss: 0.3864 - accuracy: 0.8651\n",
      "Epoch 6/8\n",
      "235/235 [==============================] - 9s 39ms/step - loss: 0.3718 - accuracy: 0.8705\n",
      "Epoch 7/8\n",
      "235/235 [==============================] - 9s 39ms/step - loss: 0.3623 - accuracy: 0.8730\n",
      "Epoch 8/8\n",
      "235/235 [==============================] - 9s 40ms/step - loss: 0.3513 - accuracy: 0.8765\n"
     ]
    }
   ],
   "source": [
    "history = model.fit(train_images[..., np.newaxis], train_labels, epochs = 8, batch_size = 256)"
   ]
  },
  {
   "cell_type": "markdown",
   "metadata": {},
   "source": [
    "We can also take a look at the summary in the form of a data frame."
   ]
  },
  {
   "cell_type": "code",
   "execution_count": 17,
   "metadata": {},
   "outputs": [
    {
     "data": {
      "text/html": [
       "<div>\n",
       "<style scoped>\n",
       "    .dataframe tbody tr th:only-of-type {\n",
       "        vertical-align: middle;\n",
       "    }\n",
       "\n",
       "    .dataframe tbody tr th {\n",
       "        vertical-align: top;\n",
       "    }\n",
       "\n",
       "    .dataframe thead th {\n",
       "        text-align: right;\n",
       "    }\n",
       "</style>\n",
       "<table border=\"1\" class=\"dataframe\">\n",
       "  <thead>\n",
       "    <tr style=\"text-align: right;\">\n",
       "      <th></th>\n",
       "      <th>loss</th>\n",
       "      <th>accuracy</th>\n",
       "    </tr>\n",
       "  </thead>\n",
       "  <tbody>\n",
       "    <tr>\n",
       "      <th>0</th>\n",
       "      <td>0.813743</td>\n",
       "      <td>0.738950</td>\n",
       "    </tr>\n",
       "    <tr>\n",
       "      <th>1</th>\n",
       "      <td>0.486114</td>\n",
       "      <td>0.829000</td>\n",
       "    </tr>\n",
       "    <tr>\n",
       "      <th>2</th>\n",
       "      <td>0.431332</td>\n",
       "      <td>0.848900</td>\n",
       "    </tr>\n",
       "    <tr>\n",
       "      <th>3</th>\n",
       "      <td>0.404003</td>\n",
       "      <td>0.859933</td>\n",
       "    </tr>\n",
       "    <tr>\n",
       "      <th>4</th>\n",
       "      <td>0.386445</td>\n",
       "      <td>0.865100</td>\n",
       "    </tr>\n",
       "  </tbody>\n",
       "</table>\n",
       "</div>"
      ],
      "text/plain": [
       "       loss  accuracy\n",
       "0  0.813743  0.738950\n",
       "1  0.486114  0.829000\n",
       "2  0.431332  0.848900\n",
       "3  0.404003  0.859933\n",
       "4  0.386445  0.865100"
      ]
     },
     "execution_count": 17,
     "metadata": {},
     "output_type": "execute_result"
    }
   ],
   "source": [
    "df = pd.DataFrame(history.history)\n",
    "df.head()"
   ]
  },
  {
   "cell_type": "markdown",
   "metadata": {},
   "source": [
    "Now that we have the history in a data frame, we can access all the info. For example, we can get the loss to plot it!"
   ]
  },
  {
   "cell_type": "code",
   "execution_count": 18,
   "metadata": {},
   "outputs": [
    {
     "data": {
      "text/plain": [
       "[Text(0, 0.5, 'Loss'), Text(0.5, 0, 'Epochs')]"
      ]
     },
     "execution_count": 18,
     "metadata": {},
     "output_type": "execute_result"
    },
    {
     "data": {
      "image/png": "[encoded data removed]",
      "text/plain": [
       "<Figure size 432x288 with 1 Axes>"
      ]
     },
     "metadata": {
      "needs_background": "light"
     },
     "output_type": "display_data"
    }
   ],
   "source": [
    "loss_plot = df.plot(y = 'loss', title = 'Loss vs Epochs', legend = False)\n",
    "loss_plot.set(xlabel = 'Epochs', ylabel = 'Loss')"
   ]
  },
  {
   "cell_type": "markdown",
   "metadata": {},
   "source": [
    "Let's make a prediction."
   ]
  },
  {
   "cell_type": "code",
   "execution_count": 20,
   "metadata": {},
   "outputs": [
    {
     "name": "stdout",
     "output_type": "stream",
     "text": [
      "True label: Sandal\n",
      "Predicted label: Sandal\n"
     ]
    },
    {
     "data": {
      "text/plain": [
       "<matplotlib.image.AxesImage at 0x7fcd18576c50>"
      ]
     },
     "execution_count": 20,
     "metadata": {},
     "output_type": "execute_result"
    },
    {
     "data": {
      "image/png": "[encoded data removed]",
      "text/plain": [
       "<Figure size 432x288 with 1 Axes>"
      ]
     },
     "metadata": {
      "needs_background": "light"
     },
     "output_type": "display_data"
    }
   ],
   "source": [
    "predictions = model.predict(test_images[..., np.newaxis])\n",
    "\n",
    "index = random.randint(0, predictions.shape[0] - 1)\n",
    "true_label = labels[test_labels[index]]\n",
    "predicted_label = labels[np.argmax(predictions[index])]\n",
    "\n",
    "print('True label: {}'.format(true_label))\n",
    "print('Predicted label: {}'.format(predicted_label))\n",
    "plt.imshow(test_images[index], cmap = 'gray')"
   ]
  },
  {
   "cell_type": "markdown",
   "metadata": {},
   "source": [
    "We can also use the `.evaluate` to see summary using the test data set."
   ]
  },
  {
   "cell_type": "code",
   "execution_count": 21,
   "metadata": {},
   "outputs": [
    {
     "name": "stdout",
     "output_type": "stream",
     "text": [
      "313/313 [==============================] - 1s 4ms/step - loss: 0.3944 - accuracy: 0.8615\n"
     ]
    },
    {
     "data": {
      "text/plain": [
       "[0.39435163140296936, 0.8615000247955322]"
      ]
     },
     "execution_count": 21,
     "metadata": {},
     "output_type": "execute_result"
    }
   ],
   "source": [
    "model.evaluate(test_images[..., np.newaxis], test_labels)"
   ]
  },
  {
   "cell_type": "code",
   "execution_count": null,
   "metadata": {},
   "outputs": [],
   "source": []
  }
 ],
 "metadata": {
  "kernelspec": {
   "display_name": "Python 3",
   "language": "python",
   "name": "python3"
  },
  "language_info": {
   "codemirror_mode": {
    "name": "ipython",
    "version": 3
   },
   "file_extension": ".py",
   "mimetype": "text/x-python",
   "name": "python",
   "nbconvert_exporter": "python",
   "pygments_lexer": "ipython3",
   "version": "3.7.6"
  }
 },
 "nbformat": 4,
 "nbformat_minor": 4
}
