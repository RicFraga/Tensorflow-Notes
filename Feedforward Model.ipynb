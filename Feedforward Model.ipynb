{
 "cells": [
  {
   "cell_type": "code",
   "execution_count": 1,
   "metadata": {},
   "outputs": [],
   "source": [
    "from tensorflow.keras.layers import Dense # Densely connected layer\n",
    "from tensorflow.keras.models import Sequential # Class that makes intuitive to build models"
   ]
  },
  {
   "cell_type": "markdown",
   "metadata": {},
   "source": [
    "Building models with the sequential class is super easy, we just create an instance of the sequential class. All we have to pass it are keras layers."
   ]
  },
  {
   "cell_type": "code",
   "execution_count": 2,
   "metadata": {},
   "outputs": [],
   "source": [
    "model = Sequential([\n",
    "    # A densely connected layer, with 64 units and activation function = ReLU\n",
    "    Dense(64, activation = 'relu'),\n",
    "    # A densely connected layer with 10 units and activation function = Softmax\n",
    "    Dense(10, activation = 'softmax')\n",
    "])"
   ]
  },
  {
   "cell_type": "markdown",
   "metadata": {},
   "source": [
    "So, our model is a feed forward neural network with 1 hidden layer.  \n",
    "Notice we're not saying what shape or size the input is going to be, we'll leave that until we pass the data to the model and train it, althought, we can do it as follows."
   ]
  },
  {
   "cell_type": "code",
   "execution_count": 3,
   "metadata": {},
   "outputs": [],
   "source": [
    "model = Sequential([\n",
    "    # A densely connected layer, with 64 units and activation function = ReLU and an input shape of (784, )\n",
    "    Dense(64, activation = 'relu', input_shape = (784, )),\n",
    "    # A densely connected layer with 10 units and activation function = Softmax\n",
    "    Dense(10, activation = 'softmax')\n",
    "])"
   ]
  },
  {
   "cell_type": "markdown",
   "metadata": {},
   "source": [
    "**Alternative way of building the exact same model**"
   ]
  },
  {
   "cell_type": "code",
   "execution_count": 4,
   "metadata": {},
   "outputs": [],
   "source": [
    "# Creata an instance of Sequential without parameters\n",
    "model = Sequential()\n",
    "\n",
    "# Using the method .add\n",
    "model.add(Dense(64, activation = 'relu', input_shape = (784, )))\n",
    "model.add(Dense(10, activation = 'softmax'))"
   ]
  },
  {
   "cell_type": "markdown",
   "metadata": {},
   "source": [
    "Another example"
   ]
  },
  {
   "cell_type": "code",
   "execution_count": 5,
   "metadata": {},
   "outputs": [],
   "source": [
    "from tensorflow.keras.layers import Flatten # Densely connected layer\n",
    "\n",
    "model = Sequential([\n",
    "    # Flatten layers, it converts (28, 28) of (784, )\n",
    "    Flatten(input_shape = (28, 28)),\n",
    "    Dense(64, activation = 'relu'),\n",
    "    Dense(10, activation = 'softmax')\n",
    "])"
   ]
  },
  {
   "cell_type": "markdown",
   "metadata": {},
   "source": [
    "Creating another model to observe parameters."
   ]
  },
  {
   "cell_type": "code",
   "execution_count": 6,
   "metadata": {},
   "outputs": [],
   "source": [
    "model = Sequential([\n",
    "    Dense(16, activation = 'relu'),\n",
    "    Dense(16, activation = 'relu'),\n",
    "    Dense(10, activation = 'softmax')\n",
    "])"
   ]
  },
  {
   "cell_type": "code",
   "execution_count": 7,
   "metadata": {},
   "outputs": [
    {
     "ename": "ValueError",
     "evalue": "Weights for model sequential_4 have not yet been created. Weights are created when the Model is first called on inputs or `build()` is called with an `input_shape`.",
     "output_type": "error",
     "traceback": [
      "\u001b[0;31m---------------------------------------------------------------------------\u001b[0m",
      "\u001b[0;31mValueError\u001b[0m                                Traceback (most recent call last)",
      "\u001b[0;32m<ipython-input-7-36bfccd83cee>\u001b[0m in \u001b[0;36m<module>\u001b[0;34m\u001b[0m\n\u001b[1;32m      1\u001b[0m \u001b[0;31m# Model summary\u001b[0m\u001b[0;34m\u001b[0m\u001b[0;34m\u001b[0m\u001b[0;34m\u001b[0m\u001b[0m\n\u001b[0;32m----> 2\u001b[0;31m \u001b[0mmodel\u001b[0m\u001b[0;34m.\u001b[0m\u001b[0mweights\u001b[0m\u001b[0;34m\u001b[0m\u001b[0;34m\u001b[0m\u001b[0m\n\u001b[0m",
      "\u001b[0;32m~/anaconda3/lib/python3.7/site-packages/tensorflow/python/keras/engine/network.py\u001b[0m in \u001b[0;36mweights\u001b[0;34m(self)\u001b[0m\n\u001b[1;32m    498\u001b[0m       \u001b[0mA\u001b[0m \u001b[0mlist\u001b[0m \u001b[0mof\u001b[0m \u001b[0mvariables\u001b[0m\u001b[0;34m.\u001b[0m\u001b[0;34m\u001b[0m\u001b[0;34m\u001b[0m\u001b[0m\n\u001b[1;32m    499\u001b[0m     \"\"\"\n\u001b[0;32m--> 500\u001b[0;31m     \u001b[0;32mreturn\u001b[0m \u001b[0mself\u001b[0m\u001b[0;34m.\u001b[0m\u001b[0m_dedup_weights\u001b[0m\u001b[0;34m(\u001b[0m\u001b[0mself\u001b[0m\u001b[0;34m.\u001b[0m\u001b[0m_undeduplicated_weights\u001b[0m\u001b[0;34m)\u001b[0m\u001b[0;34m\u001b[0m\u001b[0;34m\u001b[0m\u001b[0m\n\u001b[0m\u001b[1;32m    501\u001b[0m \u001b[0;34m\u001b[0m\u001b[0m\n\u001b[1;32m    502\u001b[0m   \u001b[0;34m@\u001b[0m\u001b[0mproperty\u001b[0m\u001b[0;34m\u001b[0m\u001b[0;34m\u001b[0m\u001b[0m\n",
      "\u001b[0;32m~/anaconda3/lib/python3.7/site-packages/tensorflow/python/keras/engine/network.py\u001b[0m in \u001b[0;36m_undeduplicated_weights\u001b[0;34m(self)\u001b[0m\n\u001b[1;32m    503\u001b[0m   \u001b[0;32mdef\u001b[0m \u001b[0m_undeduplicated_weights\u001b[0m\u001b[0;34m(\u001b[0m\u001b[0mself\u001b[0m\u001b[0;34m)\u001b[0m\u001b[0;34m:\u001b[0m\u001b[0;34m\u001b[0m\u001b[0;34m\u001b[0m\u001b[0m\n\u001b[1;32m    504\u001b[0m     \u001b[0;34m\"\"\"Returns the undeduplicated list of all layer variables/weights.\"\"\"\u001b[0m\u001b[0;34m\u001b[0m\u001b[0;34m\u001b[0m\u001b[0m\n\u001b[0;32m--> 505\u001b[0;31m     \u001b[0mself\u001b[0m\u001b[0;34m.\u001b[0m\u001b[0m_assert_weights_created\u001b[0m\u001b[0;34m(\u001b[0m\u001b[0;34m)\u001b[0m\u001b[0;34m\u001b[0m\u001b[0;34m\u001b[0m\u001b[0m\n\u001b[0m\u001b[1;32m    506\u001b[0m     \u001b[0mweights\u001b[0m \u001b[0;34m=\u001b[0m \u001b[0;34m[\u001b[0m\u001b[0;34m]\u001b[0m\u001b[0;34m\u001b[0m\u001b[0;34m\u001b[0m\u001b[0m\n\u001b[1;32m    507\u001b[0m     \u001b[0;32mfor\u001b[0m \u001b[0mlayer\u001b[0m \u001b[0;32min\u001b[0m \u001b[0mself\u001b[0m\u001b[0;34m.\u001b[0m\u001b[0m_layers\u001b[0m\u001b[0;34m:\u001b[0m\u001b[0;34m\u001b[0m\u001b[0;34m\u001b[0m\u001b[0m\n",
      "\u001b[0;32m~/anaconda3/lib/python3.7/site-packages/tensorflow/python/keras/engine/network.py\u001b[0m in \u001b[0;36m_assert_weights_created\u001b[0;34m(self)\u001b[0m\n\u001b[1;32m   1560\u001b[0m                        \u001b[0;34m'Weights are created when the Model is first called on '\u001b[0m\u001b[0;34m\u001b[0m\u001b[0;34m\u001b[0m\u001b[0m\n\u001b[1;32m   1561\u001b[0m                        \u001b[0;34m'inputs or `build()` is called with an `input_shape`.'\u001b[0m \u001b[0;34m%\u001b[0m\u001b[0;34m\u001b[0m\u001b[0;34m\u001b[0m\u001b[0m\n\u001b[0;32m-> 1562\u001b[0;31m                        self.name)\n\u001b[0m\u001b[1;32m   1563\u001b[0m \u001b[0;34m\u001b[0m\u001b[0m\n\u001b[1;32m   1564\u001b[0m   \u001b[0;32mdef\u001b[0m \u001b[0m_graph_network_add_loss\u001b[0m\u001b[0;34m(\u001b[0m\u001b[0mself\u001b[0m\u001b[0;34m,\u001b[0m \u001b[0msymbolic_loss\u001b[0m\u001b[0;34m)\u001b[0m\u001b[0;34m:\u001b[0m\u001b[0;34m\u001b[0m\u001b[0;34m\u001b[0m\u001b[0m\n",
      "\u001b[0;31mValueError\u001b[0m: Weights for model sequential_4 have not yet been created. Weights are created when the Model is first called on inputs or `build()` is called with an `input_shape`."
     ]
    }
   ],
   "source": [
    "# Model summary\n",
    "model.weights"
   ]
  },
  {
   "cell_type": "markdown",
   "metadata": {},
   "source": [
    "As we see, we get an error, because weights have not been initialized yet. We can correct this by especifying the input shape with a Flatten layer."
   ]
  },
  {
   "cell_type": "code",
   "execution_count": 8,
   "metadata": {},
   "outputs": [],
   "source": [
    "model = Sequential([\n",
    "    Flatten(input_shape = (28, 28)),\n",
    "    Dense(16, activation = 'relu'),\n",
    "    Dense(16, activation = 'relu'),\n",
    "    Dense(10, activation = 'softmax')\n",
    "])"
   ]
  },
  {
   "cell_type": "code",
   "execution_count": 9,
   "metadata": {},
   "outputs": [
    {
     "data": {
      "text/plain": [
       "[<tf.Variable 'dense_11/kernel:0' shape=(784, 16) dtype=float32, numpy=\n",
       " array([[-0.07010983,  0.04464896, -0.01042422, ...,  0.08179359,\n",
       "          0.01586717,  0.08377422],\n",
       "        [-0.06401981, -0.02058074,  0.03853139, ...,  0.06305715,\n",
       "         -0.0347984 , -0.0202671 ],\n",
       "        [-0.05600139, -0.00599781, -0.07913804, ...,  0.06600524,\n",
       "         -0.07168556,  0.01600332],\n",
       "        ...,\n",
       "        [ 0.01986713,  0.07920857,  0.00680142, ..., -0.07577424,\n",
       "          0.04798478, -0.07602974],\n",
       "        [ 0.0253374 , -0.02869768,  0.01324409, ..., -0.01742148,\n",
       "          0.04446584,  0.02060466],\n",
       "        [-0.06976896, -0.00894585,  0.05719548, ..., -0.05273601,\n",
       "         -0.05332655, -0.05914855]], dtype=float32)>,\n",
       " <tf.Variable 'dense_11/bias:0' shape=(16,) dtype=float32, numpy=\n",
       " array([0., 0., 0., 0., 0., 0., 0., 0., 0., 0., 0., 0., 0., 0., 0., 0.],\n",
       "       dtype=float32)>,\n",
       " <tf.Variable 'dense_12/kernel:0' shape=(16, 16) dtype=float32, numpy=\n",
       " array([[ 0.27107057,  0.07212761,  0.3166612 ,  0.05498481, -0.03274554,\n",
       "         -0.03091335,  0.4016159 ,  0.11049458, -0.3054773 ,  0.03325903,\n",
       "          0.29195246,  0.35522947,  0.05840921, -0.34561735, -0.2773013 ,\n",
       "         -0.188893  ],\n",
       "        [ 0.22427163, -0.06015447,  0.10774288,  0.2667006 ,  0.40497956,\n",
       "         -0.07916981, -0.3323331 ,  0.2724487 , -0.00682932,  0.14736179,\n",
       "         -0.09442842,  0.28109595, -0.1458857 ,  0.42308047,  0.20884266,\n",
       "          0.37989536],\n",
       "        [-0.30498856,  0.3455445 ,  0.2151688 , -0.08158135, -0.09138146,\n",
       "         -0.15932876,  0.37250957, -0.03914961, -0.14338568, -0.3316322 ,\n",
       "          0.18449876, -0.10891679,  0.19851783, -0.13379318, -0.3766447 ,\n",
       "         -0.00760731],\n",
       "        [-0.38950634, -0.05024317,  0.19835755, -0.15182489,  0.37927487,\n",
       "          0.03150439,  0.03920668,  0.40961227,  0.156127  ,  0.06440705,\n",
       "          0.28378353,  0.29170993,  0.31620738,  0.40383282,  0.12982091,\n",
       "          0.10295996],\n",
       "        [ 0.2361947 , -0.2490648 ,  0.25784758,  0.23823008, -0.12383875,\n",
       "         -0.08666915,  0.11672416, -0.3562696 , -0.31958914, -0.25135225,\n",
       "         -0.29011005, -0.36341327,  0.34888247, -0.06715381,  0.3585463 ,\n",
       "          0.40962425],\n",
       "        [ 0.28025475,  0.18209508, -0.2785676 , -0.21285367, -0.16237378,\n",
       "          0.33359745, -0.23322764,  0.32121566,  0.1589863 ,  0.3736535 ,\n",
       "         -0.35062474, -0.01513875, -0.02650508, -0.02359521,  0.1299648 ,\n",
       "          0.04533988],\n",
       "        [ 0.35393938,  0.33226547,  0.1818054 ,  0.19666532, -0.2982531 ,\n",
       "          0.2662805 ,  0.09028426,  0.17054912, -0.39281037, -0.1680749 ,\n",
       "          0.23916611,  0.30341884, -0.02270973,  0.12998196,  0.41607514,\n",
       "          0.03547844],\n",
       "        [-0.16147023, -0.28507638,  0.2643266 , -0.00777251,  0.33920327,\n",
       "          0.41761008,  0.30137923,  0.14664623,  0.37105045,  0.22483149,\n",
       "         -0.1897158 ,  0.16150644, -0.17316446, -0.35207307, -0.40851218,\n",
       "         -0.38636458],\n",
       "        [ 0.07284257, -0.3622986 ,  0.3572903 ,  0.16240773, -0.1198552 ,\n",
       "         -0.06247288, -0.08114415,  0.40915033, -0.2714985 ,  0.40211108,\n",
       "         -0.28874135, -0.35572335,  0.23693863,  0.12002751, -0.1989707 ,\n",
       "         -0.20153576],\n",
       "        [-0.33929548, -0.01137757, -0.20364967,  0.01007554, -0.40355024,\n",
       "          0.401355  ,  0.34921637,  0.00281283, -0.07614163, -0.2548351 ,\n",
       "          0.01158965, -0.19608726,  0.33334205, -0.17817935,  0.16313961,\n",
       "          0.13542238],\n",
       "        [ 0.23637351, -0.04800403,  0.3489174 , -0.1653871 ,  0.14646217,\n",
       "          0.06103024,  0.32053736,  0.00213712,  0.31481054,  0.11438772,\n",
       "         -0.2599133 , -0.22950043, -0.14311486,  0.3878003 ,  0.35090163,\n",
       "         -0.3371951 ],\n",
       "        [ 0.11436382,  0.0099439 , -0.21390836,  0.05256718,  0.24682733,\n",
       "         -0.12320155, -0.427664  ,  0.20639023, -0.35893303,  0.05127525,\n",
       "          0.24168804, -0.42332813,  0.11966118,  0.42865232, -0.10200116,\n",
       "          0.43185714],\n",
       "        [-0.05919424, -0.3146298 , -0.07819855, -0.06507799, -0.10379833,\n",
       "          0.05172557,  0.31004032, -0.09192851,  0.14393696, -0.39657938,\n",
       "         -0.35025647, -0.27658936, -0.14288238, -0.01057976,  0.20457378,\n",
       "          0.03555122],\n",
       "        [-0.15016627, -0.17970604, -0.34614635,  0.33799395, -0.2775632 ,\n",
       "          0.37131605,  0.13122472,  0.33530912,  0.10725889, -0.1140433 ,\n",
       "          0.00663865,  0.01548141,  0.07148382, -0.27608454,  0.37303177,\n",
       "          0.14196613],\n",
       "        [ 0.1389046 ,  0.17561617,  0.43203422,  0.35965344, -0.21008958,\n",
       "          0.0646379 ,  0.21817479,  0.01380977,  0.28179774,  0.01173541,\n",
       "          0.12135711,  0.05567908, -0.07374465,  0.36274645, -0.02963051,\n",
       "          0.00405964],\n",
       "        [ 0.2707369 , -0.35603338, -0.28475994,  0.38928476,  0.4133006 ,\n",
       "          0.4132823 ,  0.12836823,  0.01267168,  0.16044536,  0.0080241 ,\n",
       "         -0.25790894,  0.20292279,  0.39203557,  0.20063803,  0.1665791 ,\n",
       "         -0.43194997]], dtype=float32)>,\n",
       " <tf.Variable 'dense_12/bias:0' shape=(16,) dtype=float32, numpy=\n",
       " array([0., 0., 0., 0., 0., 0., 0., 0., 0., 0., 0., 0., 0., 0., 0., 0.],\n",
       "       dtype=float32)>,\n",
       " <tf.Variable 'dense_13/kernel:0' shape=(16, 10) dtype=float32, numpy=\n",
       " array([[ 0.2790277 , -0.12520918, -0.34429753,  0.24150246,  0.35359573,\n",
       "          0.03690684, -0.22185671,  0.02907914,  0.4123463 , -0.40887332],\n",
       "        [ 0.19920707,  0.40247893,  0.43616903, -0.4756711 ,  0.23056257,\n",
       "          0.4466396 ,  0.4392408 , -0.15975326, -0.02852663, -0.17225596],\n",
       "        [ 0.14828146, -0.44530874, -0.16138613, -0.31756264, -0.3026852 ,\n",
       "          0.2686199 , -0.37583593,  0.34348392, -0.22419226, -0.3874225 ],\n",
       "        [-0.3238929 , -0.02101821,  0.1817292 , -0.12573239, -0.07413739,\n",
       "          0.0775947 , -0.29048693, -0.28352597,  0.3670634 , -0.04303539],\n",
       "        [ 0.01658559,  0.3281616 ,  0.39014232,  0.20095748, -0.12473857,\n",
       "         -0.41683182,  0.10697514,  0.06829935, -0.41641837,  0.04020393],\n",
       "        [ 0.28967535,  0.16236985,  0.31676102, -0.33981162, -0.44162813,\n",
       "          0.12959123, -0.19779858, -0.23574677,  0.23482305, -0.47717848],\n",
       "        [-0.32807744,  0.14163303,  0.24190003, -0.22404817,  0.2807173 ,\n",
       "          0.3620004 , -0.05141437,  0.38863915,  0.2330715 ,  0.20236248],\n",
       "        [ 0.39286476, -0.3617208 , -0.20992002,  0.41899765, -0.28317815,\n",
       "          0.37407726, -0.33333024, -0.1846633 ,  0.05139464, -0.42828155],\n",
       "        [ 0.02065277, -0.20154688,  0.2968114 ,  0.3708014 ,  0.09263593,\n",
       "          0.22050112, -0.37326363, -0.05717167, -0.33349   ,  0.25384325],\n",
       "        [-0.34017494,  0.37340647, -0.16754043, -0.4277439 , -0.06655052,\n",
       "          0.03914207,  0.18588984, -0.30020744,  0.17502517,  0.08452654],\n",
       "        [-0.27266073,  0.23849499,  0.15009415,  0.17215997,  0.39723074,\n",
       "         -0.31183177, -0.34016728,  0.23979938, -0.2953714 ,  0.05530035],\n",
       "        [ 0.0123103 ,  0.4203623 ,  0.20312345,  0.3337989 , -0.2761825 ,\n",
       "          0.03276402,  0.08867282, -0.34682894,  0.29961073, -0.25664163],\n",
       "        [ 0.47154528, -0.45358625,  0.37431622,  0.15084273, -0.03264031,\n",
       "         -0.0232887 , -0.05376813,  0.00511834, -0.08099023,  0.15839237],\n",
       "        [-0.22777197, -0.27937496,  0.06616271,  0.08568573,  0.00171387,\n",
       "         -0.27154952, -0.13601008, -0.14938736, -0.03150642,  0.33580744],\n",
       "        [ 0.13601476, -0.321543  ,  0.0490883 , -0.12805775,  0.17600852,\n",
       "         -0.24938358, -0.3980651 ,  0.14100802, -0.13568297, -0.15992951],\n",
       "        [-0.17274365, -0.1759572 ,  0.3056932 , -0.15178704,  0.39003593,\n",
       "          0.45855194, -0.29862905,  0.2176063 , -0.4531761 , -0.09216425]],\n",
       "       dtype=float32)>,\n",
       " <tf.Variable 'dense_13/bias:0' shape=(10,) dtype=float32, numpy=array([0., 0., 0., 0., 0., 0., 0., 0., 0., 0.], dtype=float32)>]"
      ]
     },
     "execution_count": 9,
     "metadata": {},
     "output_type": "execute_result"
    }
   ],
   "source": [
    "# Model summary\n",
    "model.weights"
   ]
  },
  {
   "cell_type": "markdown",
   "metadata": {},
   "source": [
    "As you can see, the output is pretty messy, luckily, there is a better way to visualize the summary of a model."
   ]
  },
  {
   "cell_type": "code",
   "execution_count": 11,
   "metadata": {},
   "outputs": [
    {
     "name": "stdout",
     "output_type": "stream",
     "text": [
      "Model: \"sequential_5\"\n",
      "_________________________________________________________________\n",
      "Layer (type)                 Output Shape              Param #   \n",
      "=================================================================\n",
      "flatten_1 (Flatten)          (None, 784)               0         \n",
      "_________________________________________________________________\n",
      "dense_11 (Dense)             (None, 16)                12560     \n",
      "_________________________________________________________________\n",
      "dense_12 (Dense)             (None, 16)                272       \n",
      "_________________________________________________________________\n",
      "dense_13 (Dense)             (None, 10)                170       \n",
      "=================================================================\n",
      "Total params: 13,002\n",
      "Trainable params: 13,002\n",
      "Non-trainable params: 0\n",
      "_________________________________________________________________\n"
     ]
    }
   ],
   "source": [
    "model.summary()"
   ]
  },
  {
   "cell_type": "code",
   "execution_count": null,
   "metadata": {},
   "outputs": [],
   "source": []
  }
 ],
 "metadata": {
  "kernelspec": {
   "display_name": "Python 3",
   "language": "python",
   "name": "python3"
  },
  "language_info": {
   "codemirror_mode": {
    "name": "ipython",
    "version": 3
   },
   "file_extension": ".py",
   "mimetype": "text/x-python",
   "name": "python",
   "nbconvert_exporter": "python",
   "pygments_lexer": "ipython3",
   "version": "3.7.6"
  }
 },
 "nbformat": 4,
 "nbformat_minor": 4
}
