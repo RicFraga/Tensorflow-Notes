{
 "cells": [
  {
   "cell_type": "code",
   "execution_count": 2,
   "metadata": {},
   "outputs": [
    {
     "data": {
      "text/plain": [
       "'2.2.0'"
      ]
     },
     "execution_count": 2,
     "metadata": {},
     "output_type": "execute_result"
    }
   ],
   "source": [
    "import tensorflow as tf\n",
    "\n",
    "tf.__version__"
   ]
  },
  {
   "cell_type": "markdown",
   "metadata": {},
   "source": [
    "Callbacks are a way of monitoring loss and other metrics during the model training and depending on the results of those metrics perform certain actions."
   ]
  },
  {
   "cell_type": "code",
   "execution_count": 4,
   "metadata": {},
   "outputs": [],
   "source": [
    "from tensorflow.keras.callbacks import Callback"
   ]
  },
  {
   "cell_type": "markdown",
   "metadata": {},
   "source": [
    "All callbacks inherit from Callback, you can also sub class the Callback class to create your own callback, let's take a look at it."
   ]
  },
  {
   "cell_type": "code",
   "execution_count": 8,
   "metadata": {},
   "outputs": [],
   "source": [
    "class my_callback(Callback):\n",
    "    \n",
    "    # Called once at the start of training\n",
    "    def on_train_begin(self, logs = None):\n",
    "        print('Starting training...')\n",
    "    \n",
    "    # Do something at the start of every batch iteration\n",
    "    def on_train_batch_begin(self, batch, logs = None):\n",
    "        print('Training: Starting batch ', epoch)\n",
    "        \n",
    "    # Do something at the end of every epoch\n",
    "    def on_epoch_begin(self, epoch, logs = None):\n",
    "        print('Starting epoch ', epoch)\n",
    "        \n",
    "    def on_train_batch_end(self, batch, logs = None):\n",
    "        print('Training: Finished batch ', batch)\n",
    "        \n",
    "    # Do something at the end of every epoch\n",
    "    def on_epoch_end(self, epoch, logs = None):\n",
    "        print('Finished epoch ', epoch)\n",
    "        \n",
    "    def on_train_end(self, logs = None):\n",
    "        print('Finished training...')"
   ]
  },
  {
   "cell_type": "markdown",
   "metadata": {},
   "source": [
    "Here, we are creating a new class called `my_callback` which sub classes the Callback base class. This class has a series of methods that can be overwritten in our new class definition. These methods will then be called during different periods of the training.  \n",
    "All we have to do to use our callback function is to pass it as a parameter on our `model.fit` call.  \n",
    "\n",
    "`model.fit(..., callbacks = [my_callback()])`"
   ]
  },
  {
   "cell_type": "code",
   "execution_count": null,
   "metadata": {},
   "outputs": [],
   "source": []
  }
 ],
 "metadata": {
  "kernelspec": {
   "display_name": "Python 3",
   "language": "python",
   "name": "python3"
  },
  "language_info": {
   "codemirror_mode": {
    "name": "ipython",
    "version": 3
   },
   "file_extension": ".py",
   "mimetype": "text/x-python",
   "name": "python",
   "nbconvert_exporter": "python",
   "pygments_lexer": "ipython3",
   "version": "3.7.6"
  }
 },
 "nbformat": 4,
 "nbformat_minor": 4
}
